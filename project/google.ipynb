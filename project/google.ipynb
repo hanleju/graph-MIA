{
 "cells": [
  {
   "cell_type": "code",
   "execution_count": null,
   "id": "96542418",
   "metadata": {},
   "outputs": [],
   "source": [
    "import torch\n",
    "from torch_geometric.loader import NeighborLoader\n",
    "\n",
    "from utils.utils import train_batchwise, test_batchwise, train_attack_model, evaluate_attack_model, confidence_adaptive_noise\n",
    "from utils.data import split_multilabel_dataset\n",
    "from models.GraphSAGE import DeepGraphSAGE"
   ]
  },
  {
   "cell_type": "markdown",
   "id": "d2083f69",
   "metadata": {},
   "source": [
    "## Graph Load"
   ]
  },
  {
   "cell_type": "code",
   "execution_count": null,
   "id": "3ca75442",
   "metadata": {},
   "outputs": [
    {
     "name": "stdout",
     "output_type": "stream",
     "text": [
      "Loaded data with 256780 nodes and 30237805 edges\n"
     ]
    }
   ],
   "source": [
    "load_path = \"./project/dataset/google/gplus_graph.pt\"\n",
    "data, mlb, all_labels = torch.load(load_path, weights_only=False)\n",
    "print(f\"Loaded data with {data.num_nodes} nodes and {data.num_edges} edges\")"
   ]
  },
  {
   "cell_type": "markdown",
   "id": "8371e4b8",
   "metadata": {},
   "source": [
    "### 라벨 개수가 100개 이하인 경우 제거"
   ]
  },
  {
   "cell_type": "code",
   "execution_count": null,
   "id": "1d669126",
   "metadata": {},
   "outputs": [
    {
     "name": "stdout",
     "output_type": "stream",
     "text": [
      "[Filter Labels] Kept 73 labels (with > 300 samples each)\n",
      "[Filtered] 39204 nodes | 2147251 edges | 73 labels\n"
     ]
    }
   ],
   "source": [
    "# 라벨이 존재하는 노드만 마스크 생성\n",
    "has_label = data.y.sum(dim=1) > 0\n",
    "labeled_idx = has_label.nonzero(as_tuple=False).view(-1)\n",
    "\n",
    "# 노드 특성과 라벨 필터링\n",
    "data.x = data.x[labeled_idx]\n",
    "data.y = data.y[labeled_idx]\n",
    "\n",
    "# 라벨의 전체 분포 계산\n",
    "label_counts = data.y.sum(dim=0)\n",
    "\n",
    "# 라벨 개수가 100개 이하인 경우 제거\n",
    "keep_label_indices = (label_counts > 300).nonzero(as_tuple=True)[0]\n",
    "data.y = data.y[:, keep_label_indices]\n",
    "\n",
    "print(f\"[Filter Labels] Kept {len(keep_label_indices)} labels (with > 300 samples each)\")\n",
    "\n",
    "# edge_index도 labeled_idx만 포함하도록 재매핑\n",
    "# 먼저 node id → 새 인덱스 매핑 생성\n",
    "old_to_new = {int(old_idx): new_idx for new_idx, old_idx in enumerate(labeled_idx.tolist())}\n",
    "\n",
    "# 유효한 edge만 필터링\n",
    "src, dst = data.edge_index\n",
    "mask = has_label[src] & has_label[dst]\n",
    "src = src[mask]\n",
    "dst = dst[mask]\n",
    "\n",
    "# 인덱스 재매핑\n",
    "mapped_src = torch.tensor([old_to_new[int(i)] for i in src.tolist()], dtype=torch.long)\n",
    "mapped_dst = torch.tensor([old_to_new[int(i)] for i in dst.tolist()], dtype=torch.long)\n",
    "data.edge_index = torch.stack([mapped_src, mapped_dst], dim=0)\n",
    "\n",
    "print(f\"[Filtered] {data.num_nodes} nodes | {data.num_edges} edges | {data.y.shape[1]} labels\")"
   ]
  },
  {
   "cell_type": "markdown",
   "id": "cfa915c8",
   "metadata": {},
   "source": [
    "## DataLoad"
   ]
  },
  {
   "cell_type": "code",
   "execution_count": null,
   "id": "60417698",
   "metadata": {},
   "outputs": [
    {
     "name": "stdout",
     "output_type": "stream",
     "text": [
      "Load Target Model Dataset\n",
      "Load Shadow Model Dataset\n"
     ]
    }
   ],
   "source": [
    "device = torch.device('cuda' if torch.cuda.is_available() else 'cpu')\n",
    "\n",
    "# 데이터셋 분할\n",
    "target_train_idx, target_test_idx, shadow_train_idx, shadow_test_idx = split_multilabel_dataset(data)\n",
    "\n",
    "# Target Train\n",
    "target_train_loader = NeighborLoader(\n",
    "    data,\n",
    "    input_nodes=target_train_idx,\n",
    "    num_neighbors=[15, 10, 5],\n",
    "    batch_size=128,\n",
    "    shuffle=True\n",
    ")\n",
    "\n",
    "# Target Test\n",
    "target_test_loader = NeighborLoader(\n",
    "    data,\n",
    "    input_nodes=target_test_idx,\n",
    "    num_neighbors=[15, 10, 5],\n",
    "    batch_size=128,\n",
    "    shuffle=True\n",
    ")\n",
    "\n",
    "print(\"Load Target Model Dataset\")\n",
    "\n",
    "# Shadow Train\n",
    "shadow_train_loader = NeighborLoader(\n",
    "    data,\n",
    "    input_nodes=shadow_train_idx,\n",
    "    num_neighbors=[15, 10, 5],\n",
    "    batch_size=128,\n",
    "    shuffle=True\n",
    ")\n",
    "\n",
    "# Shadow Test\n",
    "shadow_test_loader = NeighborLoader(\n",
    "    data,\n",
    "    input_nodes=shadow_test_idx,\n",
    "    num_neighbors=[15, 10, 5],\n",
    "    batch_size=128,\n",
    "    shuffle=True\n",
    ")\n",
    "print(\"Load Shadow Model Dataset\")"
   ]
  },
  {
   "cell_type": "markdown",
   "id": "17fd8513",
   "metadata": {},
   "source": [
    "## Target Model"
   ]
  },
  {
   "cell_type": "code",
   "execution_count": null,
   "id": "b1d18359",
   "metadata": {},
   "outputs": [
    {
     "name": "stdout",
     "output_type": "stream",
     "text": [
      "Load Model\n"
     ]
    },
    {
     "name": "stderr",
     "output_type": "stream",
     "text": [
      "  3%|▎         | 10/299 [00:22<11:16,  2.34s/it]"
     ]
    },
    {
     "name": "stdout",
     "output_type": "stream",
     "text": [
      "[Epoch 10] Loss: 44.2492\n"
     ]
    },
    {
     "name": "stderr",
     "output_type": "stream",
     "text": [
      "  7%|▋         | 20/299 [00:44<10:22,  2.23s/it]"
     ]
    },
    {
     "name": "stdout",
     "output_type": "stream",
     "text": [
      "[Epoch 20] Loss: 44.8719\n"
     ]
    },
    {
     "name": "stderr",
     "output_type": "stream",
     "text": [
      " 10%|█         | 30/299 [01:07<10:06,  2.26s/it]"
     ]
    },
    {
     "name": "stdout",
     "output_type": "stream",
     "text": [
      "[Epoch 30] Loss: 44.0705\n"
     ]
    },
    {
     "name": "stderr",
     "output_type": "stream",
     "text": [
      " 13%|█▎        | 40/299 [01:32<11:54,  2.76s/it]"
     ]
    },
    {
     "name": "stdout",
     "output_type": "stream",
     "text": [
      "[Epoch 40] Loss: 44.3050\n"
     ]
    },
    {
     "name": "stderr",
     "output_type": "stream",
     "text": [
      " 17%|█▋        | 50/299 [01:58<09:21,  2.25s/it]"
     ]
    },
    {
     "name": "stdout",
     "output_type": "stream",
     "text": [
      "[Epoch 50] Loss: 49.6841\n"
     ]
    },
    {
     "name": "stderr",
     "output_type": "stream",
     "text": [
      " 20%|██        | 60/299 [02:26<11:13,  2.82s/it]"
     ]
    },
    {
     "name": "stdout",
     "output_type": "stream",
     "text": [
      "[Epoch 60] Loss: 44.6848\n"
     ]
    },
    {
     "name": "stderr",
     "output_type": "stream",
     "text": [
      " 23%|██▎       | 70/299 [02:53<09:28,  2.48s/it]"
     ]
    },
    {
     "name": "stdout",
     "output_type": "stream",
     "text": [
      "[Epoch 70] Loss: 44.3723\n"
     ]
    },
    {
     "name": "stderr",
     "output_type": "stream",
     "text": [
      " 27%|██▋       | 80/299 [03:14<07:44,  2.12s/it]"
     ]
    },
    {
     "name": "stdout",
     "output_type": "stream",
     "text": [
      "[Epoch 80] Loss: 44.7696\n"
     ]
    },
    {
     "name": "stderr",
     "output_type": "stream",
     "text": [
      " 30%|███       | 90/299 [03:36<07:55,  2.28s/it]"
     ]
    },
    {
     "name": "stdout",
     "output_type": "stream",
     "text": [
      "[Epoch 90] Loss: 44.5692\n"
     ]
    },
    {
     "name": "stderr",
     "output_type": "stream",
     "text": [
      " 33%|███▎      | 100/299 [04:00<07:49,  2.36s/it]"
     ]
    },
    {
     "name": "stdout",
     "output_type": "stream",
     "text": [
      "[Epoch 100] Loss: 44.6131\n"
     ]
    },
    {
     "name": "stderr",
     "output_type": "stream",
     "text": [
      " 37%|███▋      | 110/299 [04:22<07:10,  2.28s/it]"
     ]
    },
    {
     "name": "stdout",
     "output_type": "stream",
     "text": [
      "[Epoch 110] Loss: 44.5805\n"
     ]
    },
    {
     "name": "stderr",
     "output_type": "stream",
     "text": [
      " 40%|████      | 120/299 [04:47<07:10,  2.41s/it]"
     ]
    },
    {
     "name": "stdout",
     "output_type": "stream",
     "text": [
      "[Epoch 120] Loss: 44.6423\n"
     ]
    },
    {
     "name": "stderr",
     "output_type": "stream",
     "text": [
      " 43%|████▎     | 130/299 [05:15<08:26,  3.00s/it]"
     ]
    },
    {
     "name": "stdout",
     "output_type": "stream",
     "text": [
      "[Epoch 130] Loss: 44.6302\n"
     ]
    },
    {
     "name": "stderr",
     "output_type": "stream",
     "text": [
      " 47%|████▋     | 140/299 [05:43<06:29,  2.45s/it]"
     ]
    },
    {
     "name": "stdout",
     "output_type": "stream",
     "text": [
      "[Epoch 140] Loss: 44.5737\n"
     ]
    },
    {
     "name": "stderr",
     "output_type": "stream",
     "text": [
      " 50%|█████     | 150/299 [06:05<05:19,  2.14s/it]"
     ]
    },
    {
     "name": "stdout",
     "output_type": "stream",
     "text": [
      "[Epoch 150] Loss: 46.7180\n"
     ]
    },
    {
     "name": "stderr",
     "output_type": "stream",
     "text": [
      " 54%|█████▎    | 160/299 [06:27<05:08,  2.22s/it]"
     ]
    },
    {
     "name": "stdout",
     "output_type": "stream",
     "text": [
      "[Epoch 160] Loss: 45.2194\n"
     ]
    },
    {
     "name": "stderr",
     "output_type": "stream",
     "text": [
      " 57%|█████▋    | 170/299 [06:50<04:53,  2.28s/it]"
     ]
    },
    {
     "name": "stdout",
     "output_type": "stream",
     "text": [
      "[Epoch 170] Loss: 45.5021\n"
     ]
    },
    {
     "name": "stderr",
     "output_type": "stream",
     "text": [
      " 60%|██████    | 180/299 [07:21<06:32,  3.30s/it]"
     ]
    },
    {
     "name": "stdout",
     "output_type": "stream",
     "text": [
      "[Epoch 180] Loss: 45.0762\n"
     ]
    },
    {
     "name": "stderr",
     "output_type": "stream",
     "text": [
      " 64%|██████▎   | 190/299 [07:45<04:18,  2.37s/it]"
     ]
    },
    {
     "name": "stdout",
     "output_type": "stream",
     "text": [
      "[Epoch 190] Loss: 44.9772\n"
     ]
    },
    {
     "name": "stderr",
     "output_type": "stream",
     "text": [
      " 67%|██████▋   | 200/299 [08:07<03:38,  2.21s/it]"
     ]
    },
    {
     "name": "stdout",
     "output_type": "stream",
     "text": [
      "[Epoch 200] Loss: 45.5066\n"
     ]
    },
    {
     "name": "stderr",
     "output_type": "stream",
     "text": [
      " 70%|███████   | 210/299 [08:29<03:30,  2.37s/it]"
     ]
    },
    {
     "name": "stdout",
     "output_type": "stream",
     "text": [
      "[Epoch 210] Loss: 45.2425\n"
     ]
    },
    {
     "name": "stderr",
     "output_type": "stream",
     "text": [
      " 74%|███████▎  | 220/299 [08:53<03:05,  2.35s/it]"
     ]
    },
    {
     "name": "stdout",
     "output_type": "stream",
     "text": [
      "[Epoch 220] Loss: 44.9501\n"
     ]
    },
    {
     "name": "stderr",
     "output_type": "stream",
     "text": [
      " 77%|███████▋  | 230/299 [09:15<02:29,  2.17s/it]"
     ]
    },
    {
     "name": "stdout",
     "output_type": "stream",
     "text": [
      "[Epoch 230] Loss: 44.9867\n"
     ]
    },
    {
     "name": "stderr",
     "output_type": "stream",
     "text": [
      " 80%|████████  | 240/299 [09:37<02:10,  2.21s/it]"
     ]
    },
    {
     "name": "stdout",
     "output_type": "stream",
     "text": [
      "[Epoch 240] Loss: 45.2586\n"
     ]
    },
    {
     "name": "stderr",
     "output_type": "stream",
     "text": [
      " 84%|████████▎ | 250/299 [09:57<01:37,  1.99s/it]"
     ]
    },
    {
     "name": "stdout",
     "output_type": "stream",
     "text": [
      "[Epoch 250] Loss: 45.2711\n"
     ]
    },
    {
     "name": "stderr",
     "output_type": "stream",
     "text": [
      " 87%|████████▋ | 260/299 [10:16<01:14,  1.92s/it]"
     ]
    },
    {
     "name": "stdout",
     "output_type": "stream",
     "text": [
      "[Epoch 260] Loss: 45.1456\n"
     ]
    },
    {
     "name": "stderr",
     "output_type": "stream",
     "text": [
      " 90%|█████████ | 270/299 [10:36<00:56,  1.94s/it]"
     ]
    },
    {
     "name": "stdout",
     "output_type": "stream",
     "text": [
      "[Epoch 270] Loss: 46.3767\n"
     ]
    },
    {
     "name": "stderr",
     "output_type": "stream",
     "text": [
      " 94%|█████████▎| 280/299 [10:55<00:36,  1.92s/it]"
     ]
    },
    {
     "name": "stdout",
     "output_type": "stream",
     "text": [
      "[Epoch 280] Loss: 45.4845\n"
     ]
    },
    {
     "name": "stderr",
     "output_type": "stream",
     "text": [
      " 97%|█████████▋| 290/299 [11:14<00:17,  1.92s/it]"
     ]
    },
    {
     "name": "stdout",
     "output_type": "stream",
     "text": [
      "[Epoch 290] Loss: 45.8201\n"
     ]
    },
    {
     "name": "stderr",
     "output_type": "stream",
     "text": [
      "100%|██████████| 299/299 [11:32<00:00,  2.31s/it]\n"
     ]
    }
   ],
   "source": [
    "target_model = DeepGraphSAGE(in_channels=data.x.shape[1], hidden_channels=64, out_channels=data.y.shape[1]).to(device)\n",
    "\n",
    "print(\"Load Model\")\n",
    "\n",
    "label_count = data.y.sum(dim=0)\n",
    "pos_weight = (data.y.shape[0] - label_count) / (label_count + 1e-5)\n",
    "\n",
    "train_batchwise(target_model, target_train_loader, device, \n",
    "                epochs=300, learning_rate=0.01, \n",
    "                pos_weight=pos_weight, noise=lambda x: confidence_adaptive_noise(x, base_scale=0.2, min_scale=0.05, gamma=1.0))\n",
    "\n",
    "torch.save(target_model.state_dict(), \"./weights/google/300/target/target.pt\")"
   ]
  },
  {
   "cell_type": "code",
   "execution_count": null,
   "id": "c6bbe7f0",
   "metadata": {},
   "outputs": [
    {
     "name": "stdout",
     "output_type": "stream",
     "text": [
      "[Test] F1-micro: 0.7299 | F1-macro: 0.6995 | Precision-macro: 0.6034 | Recall-macro: 0.8802\n",
      "F1 per label:\n",
      "[0.732 0.929 0.744 0.786 0.689 0.903 0.    0.917 0.973 0.913 0.5   0.042\n",
      " 0.866 0.978 0.649 0.634 0.702 0.802 0.781 0.657 0.644 0.838 0.982 0.672\n",
      " 0.    0.973 0.456 0.588 0.477 0.859 0.839 0.    0.692 0.681 0.485 1.\n",
      " 0.74  0.722 0.    0.677 0.657 1.    0.993 0.    0.69  0.987 0.    0.987\n",
      " 0.448 0.586 0.798 0.979 0.747 0.    0.865 0.838 0.932 0.738 0.851 0.862\n",
      " 1.    0.794 0.748 0.722 0.838 0.905 0.964 0.817 0.944 0.604 0.724 0.951\n",
      " 0.571]\n"
     ]
    },
    {
     "data": {
      "text/plain": [
       "(0.7299459130037328,\n",
       " 0.6994672550637632,\n",
       " 0.6033945587420071,\n",
       " 0.8802256417422668,\n",
       " array([0.73191489, 0.92857143, 0.74418605, 0.78606965, 0.68852459,\n",
       "        0.9025641 , 0.        , 0.91712707, 0.97260274, 0.91304348,\n",
       "        0.5       , 0.04166667, 0.86624204, 0.97752809, 0.64944649,\n",
       "        0.63436123, 0.70212766, 0.80152672, 0.78095238, 0.65660377,\n",
       "        0.6440678 , 0.83783784, 0.98214286, 0.67164179, 0.        ,\n",
       "        0.97333333, 0.4556962 , 0.58823529, 0.47668394, 0.85897436,\n",
       "        0.83937824, 0.        , 0.69172932, 0.68148148, 0.48453608,\n",
       "        1.        , 0.74025974, 0.72189349, 0.        , 0.67680608,\n",
       "        0.65660377, 1.        , 0.99300699, 0.        , 0.68989547,\n",
       "        0.98684211, 0.        , 0.98684211, 0.44776119, 0.58646617,\n",
       "        0.7983871 , 0.97916667, 0.74708171, 0.        , 0.86549708,\n",
       "        0.83832335, 0.93203883, 0.73846154, 0.85067873, 0.86222222,\n",
       "        1.        , 0.79396985, 0.7483871 , 0.72189349, 0.83832335,\n",
       "        0.90502793, 0.96402878, 0.81707317, 0.94366197, 0.6035503 ,\n",
       "        0.72368421, 0.95104895, 0.57142857]))"
      ]
     },
     "execution_count": 6,
     "metadata": {},
     "output_type": "execute_result"
    }
   ],
   "source": [
    "# 모델 선언 (입력 차원과 출력 차원 맞추기)\n",
    "target_model = DeepGraphSAGE(in_channels=data.x.shape[1], hidden_channels=64, out_channels=data.y.shape[1]).to(device)\n",
    "\n",
    "# weight 파일 로드\n",
    "target_model.load_state_dict(torch.load(\"./weights/google/300/target/.pt\", weights_only=False))\n",
    "target_model.eval()\n",
    "\n",
    "test_batchwise(target_model, target_test_loader, device, threshold=0.97)"
   ]
  },
  {
   "cell_type": "markdown",
   "id": "e4fbe8b7",
   "metadata": {},
   "source": [
    "## Shadow Model"
   ]
  },
  {
   "cell_type": "code",
   "execution_count": 16,
   "id": "19238c0f",
   "metadata": {},
   "outputs": [
    {
     "name": "stderr",
     "output_type": "stream",
     "text": [
      "  3%|▎         | 10/299 [00:13<06:20,  1.32s/it]"
     ]
    },
    {
     "name": "stdout",
     "output_type": "stream",
     "text": [
      "[Epoch 10] Loss: 29.7433\n"
     ]
    },
    {
     "name": "stderr",
     "output_type": "stream",
     "text": [
      "  7%|▋         | 20/299 [00:26<06:08,  1.32s/it]"
     ]
    },
    {
     "name": "stdout",
     "output_type": "stream",
     "text": [
      "[Epoch 20] Loss: 29.2925\n"
     ]
    },
    {
     "name": "stderr",
     "output_type": "stream",
     "text": [
      " 10%|█         | 30/299 [00:39<05:53,  1.31s/it]"
     ]
    },
    {
     "name": "stdout",
     "output_type": "stream",
     "text": [
      "[Epoch 30] Loss: 29.3505\n"
     ]
    },
    {
     "name": "stderr",
     "output_type": "stream",
     "text": [
      " 13%|█▎        | 40/299 [00:52<05:37,  1.31s/it]"
     ]
    },
    {
     "name": "stdout",
     "output_type": "stream",
     "text": [
      "[Epoch 40] Loss: 29.3814\n"
     ]
    },
    {
     "name": "stderr",
     "output_type": "stream",
     "text": [
      " 17%|█▋        | 50/299 [01:05<05:31,  1.33s/it]"
     ]
    },
    {
     "name": "stdout",
     "output_type": "stream",
     "text": [
      "[Epoch 50] Loss: 29.3942\n"
     ]
    },
    {
     "name": "stderr",
     "output_type": "stream",
     "text": [
      " 20%|██        | 60/299 [01:19<05:15,  1.32s/it]"
     ]
    },
    {
     "name": "stdout",
     "output_type": "stream",
     "text": [
      "[Epoch 60] Loss: 29.2177\n"
     ]
    },
    {
     "name": "stderr",
     "output_type": "stream",
     "text": [
      " 23%|██▎       | 70/299 [01:32<05:04,  1.33s/it]"
     ]
    },
    {
     "name": "stdout",
     "output_type": "stream",
     "text": [
      "[Epoch 70] Loss: 29.2312\n"
     ]
    },
    {
     "name": "stderr",
     "output_type": "stream",
     "text": [
      " 27%|██▋       | 80/299 [01:45<04:49,  1.32s/it]"
     ]
    },
    {
     "name": "stdout",
     "output_type": "stream",
     "text": [
      "[Epoch 80] Loss: 29.4250\n"
     ]
    },
    {
     "name": "stderr",
     "output_type": "stream",
     "text": [
      " 30%|███       | 90/299 [01:58<04:36,  1.32s/it]"
     ]
    },
    {
     "name": "stdout",
     "output_type": "stream",
     "text": [
      "[Epoch 90] Loss: 28.9886\n"
     ]
    },
    {
     "name": "stderr",
     "output_type": "stream",
     "text": [
      " 33%|███▎      | 100/299 [02:12<04:29,  1.35s/it]"
     ]
    },
    {
     "name": "stdout",
     "output_type": "stream",
     "text": [
      "[Epoch 100] Loss: 29.2570\n"
     ]
    },
    {
     "name": "stderr",
     "output_type": "stream",
     "text": [
      " 37%|███▋      | 110/299 [02:26<04:33,  1.45s/it]"
     ]
    },
    {
     "name": "stdout",
     "output_type": "stream",
     "text": [
      "[Epoch 110] Loss: 29.0014\n"
     ]
    },
    {
     "name": "stderr",
     "output_type": "stream",
     "text": [
      " 40%|████      | 120/299 [02:41<04:23,  1.47s/it]"
     ]
    },
    {
     "name": "stdout",
     "output_type": "stream",
     "text": [
      "[Epoch 120] Loss: 29.3858\n"
     ]
    },
    {
     "name": "stderr",
     "output_type": "stream",
     "text": [
      " 43%|████▎     | 130/299 [02:56<04:09,  1.47s/it]"
     ]
    },
    {
     "name": "stdout",
     "output_type": "stream",
     "text": [
      "[Epoch 130] Loss: 29.2680\n"
     ]
    },
    {
     "name": "stderr",
     "output_type": "stream",
     "text": [
      " 47%|████▋     | 140/299 [03:11<03:58,  1.50s/it]"
     ]
    },
    {
     "name": "stdout",
     "output_type": "stream",
     "text": [
      "[Epoch 140] Loss: 29.8416\n"
     ]
    },
    {
     "name": "stderr",
     "output_type": "stream",
     "text": [
      " 50%|█████     | 150/299 [03:27<04:03,  1.63s/it]"
     ]
    },
    {
     "name": "stdout",
     "output_type": "stream",
     "text": [
      "[Epoch 150] Loss: 29.8437\n"
     ]
    },
    {
     "name": "stderr",
     "output_type": "stream",
     "text": [
      " 54%|█████▎    | 160/299 [03:42<03:23,  1.46s/it]"
     ]
    },
    {
     "name": "stdout",
     "output_type": "stream",
     "text": [
      "[Epoch 160] Loss: 29.5209\n"
     ]
    },
    {
     "name": "stderr",
     "output_type": "stream",
     "text": [
      " 57%|█████▋    | 170/299 [03:57<03:15,  1.51s/it]"
     ]
    },
    {
     "name": "stdout",
     "output_type": "stream",
     "text": [
      "[Epoch 170] Loss: 29.6281\n"
     ]
    },
    {
     "name": "stderr",
     "output_type": "stream",
     "text": [
      " 60%|██████    | 180/299 [04:11<02:53,  1.46s/it]"
     ]
    },
    {
     "name": "stdout",
     "output_type": "stream",
     "text": [
      "[Epoch 180] Loss: 29.6245\n"
     ]
    },
    {
     "name": "stderr",
     "output_type": "stream",
     "text": [
      " 64%|██████▎   | 190/299 [04:26<02:39,  1.47s/it]"
     ]
    },
    {
     "name": "stdout",
     "output_type": "stream",
     "text": [
      "[Epoch 190] Loss: 29.7412\n"
     ]
    },
    {
     "name": "stderr",
     "output_type": "stream",
     "text": [
      " 67%|██████▋   | 200/299 [04:41<02:27,  1.49s/it]"
     ]
    },
    {
     "name": "stdout",
     "output_type": "stream",
     "text": [
      "[Epoch 200] Loss: 29.6775\n"
     ]
    },
    {
     "name": "stderr",
     "output_type": "stream",
     "text": [
      " 70%|███████   | 210/299 [04:56<02:10,  1.47s/it]"
     ]
    },
    {
     "name": "stdout",
     "output_type": "stream",
     "text": [
      "[Epoch 210] Loss: 30.2550\n"
     ]
    },
    {
     "name": "stderr",
     "output_type": "stream",
     "text": [
      " 74%|███████▎  | 220/299 [05:10<01:54,  1.45s/it]"
     ]
    },
    {
     "name": "stdout",
     "output_type": "stream",
     "text": [
      "[Epoch 220] Loss: 29.7785\n"
     ]
    },
    {
     "name": "stderr",
     "output_type": "stream",
     "text": [
      " 77%|███████▋  | 230/299 [05:25<01:42,  1.48s/it]"
     ]
    },
    {
     "name": "stdout",
     "output_type": "stream",
     "text": [
      "[Epoch 230] Loss: 30.3682\n"
     ]
    },
    {
     "name": "stderr",
     "output_type": "stream",
     "text": [
      " 80%|████████  | 240/299 [05:39<01:26,  1.46s/it]"
     ]
    },
    {
     "name": "stdout",
     "output_type": "stream",
     "text": [
      "[Epoch 240] Loss: 29.9281\n"
     ]
    },
    {
     "name": "stderr",
     "output_type": "stream",
     "text": [
      " 84%|████████▎ | 250/299 [05:54<01:11,  1.45s/it]"
     ]
    },
    {
     "name": "stdout",
     "output_type": "stream",
     "text": [
      "[Epoch 250] Loss: 30.0207\n"
     ]
    },
    {
     "name": "stderr",
     "output_type": "stream",
     "text": [
      " 87%|████████▋ | 260/299 [06:08<00:56,  1.44s/it]"
     ]
    },
    {
     "name": "stdout",
     "output_type": "stream",
     "text": [
      "[Epoch 260] Loss: 30.2871\n"
     ]
    },
    {
     "name": "stderr",
     "output_type": "stream",
     "text": [
      " 90%|█████████ | 270/299 [06:23<00:42,  1.46s/it]"
     ]
    },
    {
     "name": "stdout",
     "output_type": "stream",
     "text": [
      "[Epoch 270] Loss: 30.1545\n"
     ]
    },
    {
     "name": "stderr",
     "output_type": "stream",
     "text": [
      " 94%|█████████▎| 280/299 [06:37<00:27,  1.44s/it]"
     ]
    },
    {
     "name": "stdout",
     "output_type": "stream",
     "text": [
      "[Epoch 280] Loss: 29.9040\n"
     ]
    },
    {
     "name": "stderr",
     "output_type": "stream",
     "text": [
      " 97%|█████████▋| 290/299 [06:52<00:12,  1.43s/it]"
     ]
    },
    {
     "name": "stdout",
     "output_type": "stream",
     "text": [
      "[Epoch 290] Loss: 30.1070\n"
     ]
    },
    {
     "name": "stderr",
     "output_type": "stream",
     "text": [
      "100%|██████████| 299/299 [07:05<00:00,  1.42s/it]\n"
     ]
    }
   ],
   "source": [
    "# Shadow model training (no augmentation)\n",
    "shadow_model = DeepGraphSAGE(in_channels=data.x.shape[1], hidden_channels=64, out_channels=data.y.shape[1]).to(device)\n",
    "\n",
    "label_count = data.y.sum(dim=0)\n",
    "pos_weight = (data.y.shape[0] - label_count) / (label_count + 1e-5)\n",
    "\n",
    "train_batchwise(shadow_model, shadow_train_loader, device, epochs=300, learning_rate=0.01, pos_weight=pos_weight)\n",
    "\n",
    "torch.save(shadow_model.state_dict(), \"./weights/google/300/shadow/shadow.pt\")"
   ]
  },
  {
   "cell_type": "code",
   "execution_count": null,
   "id": "13be67c7",
   "metadata": {},
   "outputs": [
    {
     "name": "stdout",
     "output_type": "stream",
     "text": [
      "[Test] F1-micro: 0.7277 | F1-macro: 0.7127 | Precision-macro: 0.6482 | Recall-macro: 0.8672\n",
      "F1 per label:\n",
      "[0.691 0.943 0.792 0.833 0.645 0.904 0.    0.926 0.986 0.912 0.847 0.066\n",
      " 0.845 0.938 0.627 0.723 0.711 0.831 0.729 0.628 0.688 0.899 0.952 0.598\n",
      " 0.279 0.957 0.24  0.582 0.573 0.783 0.855 0.    0.556 0.7   0.43  1.\n",
      " 0.85  0.679 0.    0.691 0.722 0.973 0.988 0.    0.944 0.961 0.    0.992\n",
      " 0.554 0.99  0.718 0.952 0.    0.122 0.87  0.85  0.977 0.718 0.785 0.909\n",
      " 1.    0.79  0.839 0.75  0.86  0.917 0.987 0.86  0.972 0.652 0.829 0.986\n",
      " 0.674]\n"
     ]
    },
    {
     "data": {
      "text/plain": [
       "(0.7276605298607993,\n",
       " 0.7127127068302331,\n",
       " 0.6481626969513311,\n",
       " 0.8672433192753384,\n",
       " array([0.69064748, 0.94308943, 0.79166667, 0.83333333, 0.6446281 ,\n",
       "        0.9037037 , 0.        , 0.92561983, 0.98630137, 0.91176471,\n",
       "        0.84684685, 0.06557377, 0.84536082, 0.93793103, 0.62721893,\n",
       "        0.72340426, 0.71111111, 0.83050847, 0.72857143, 0.62827225,\n",
       "        0.688     , 0.89908257, 0.95238095, 0.59756098, 0.2791762 ,\n",
       "        0.95652174, 0.24      , 0.58208955, 0.57317073, 0.7826087 ,\n",
       "        0.85526316, 0.        , 0.55629139, 0.7       , 0.4295302 ,\n",
       "        1.        , 0.84955752, 0.67924528, 0.        , 0.69090909,\n",
       "        0.72222222, 0.97297297, 0.98765432, 0.        , 0.94444444,\n",
       "        0.96103896, 0.        , 0.99159664, 0.55421687, 0.99047619,\n",
       "        0.71830986, 0.9516129 , 0.        , 0.12244898, 0.86956522,\n",
       "        0.84955752, 0.97674419, 0.71830986, 0.78518519, 0.90909091,\n",
       "        1.        , 0.78980892, 0.83928571, 0.75      , 0.85964912,\n",
       "        0.91666667, 0.98734177, 0.85964912, 0.97222222, 0.65185185,\n",
       "        0.82882883, 0.98630137, 0.67403315]))"
      ]
     },
     "execution_count": 17,
     "metadata": {},
     "output_type": "execute_result"
    }
   ],
   "source": [
    "shadow_model = DeepGraphSAGE(in_channels=data.x.shape[1], hidden_channels=64, out_channels=data.y.shape[1]).to(device)\n",
    "\n",
    "# weight 파일 로드\n",
    "shadow_model.load_state_dict(torch.load(\"./weights/google/300/shadow/shadow.pt\", weights_only=False))\n",
    "shadow_model.eval()\n",
    "\n",
    "test_batchwise(shadow_model, shadow_test_loader, device, threshold=0.97)"
   ]
  },
  {
   "cell_type": "markdown",
   "id": "34703aeb",
   "metadata": {},
   "source": [
    "## Attack Model"
   ]
  },
  {
   "cell_type": "code",
   "execution_count": 18,
   "id": "25414c41",
   "metadata": {},
   "outputs": [
    {
     "name": "stdout",
     "output_type": "stream",
     "text": [
      "[Attack Evaluation] Accuracy: 0.7000 | AUC: 0.5018\n"
     ]
    },
    {
     "data": {
      "text/plain": [
       "(0.6999829946433126, 0.5018297623434288)"
      ]
     },
     "execution_count": 18,
     "metadata": {},
     "output_type": "execute_result"
    }
   ],
   "source": [
    "attack_clf = train_attack_model(shadow_model, data, shadow_train_idx, shadow_test_idx, top_k=30, device=device)\n",
    "evaluate_attack_model(attack_clf, target_model, data, target_train_idx, target_test_idx, top_k=30, device=device)"
   ]
  }
 ],
 "metadata": {
  "kernelspec": {
   "display_name": "graph",
   "language": "python",
   "name": "python3"
  },
  "language_info": {
   "codemirror_mode": {
    "name": "ipython",
    "version": 3
   },
   "file_extension": ".py",
   "mimetype": "text/x-python",
   "name": "python",
   "nbconvert_exporter": "python",
   "pygments_lexer": "ipython3",
   "version": "3.9.21"
  }
 },
 "nbformat": 4,
 "nbformat_minor": 5
}
